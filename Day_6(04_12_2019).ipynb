{
  "nbformat": 4,
  "nbformat_minor": 0,
  "metadata": {
    "colab": {
      "name": "Day-6(04/12/2019).ipynb",
      "provenance": [],
      "include_colab_link": true
    },
    "kernelspec": {
      "name": "python3",
      "display_name": "Python 3"
    }
  },
  "cells": [
    {
      "cell_type": "markdown",
      "metadata": {
        "id": "view-in-github",
        "colab_type": "text"
      },
      "source": [
        "<a href=\"https://colab.research.google.com/github/v-1799/CRT-Program/blob/master/Day_6(04_12_2019).ipynb\" target=\"_parent\"><img src=\"https://colab.research.google.com/assets/colab-badge.svg\" alt=\"Open In Colab\"/></a>"
      ]
    },
    {
      "cell_type": "code",
      "metadata": {
        "id": "-n7GIleNBpSH",
        "colab_type": "code",
        "outputId": "a4d7b370-6845-47e4-abd0-1c48ad9f1121",
        "colab": {
          "base_uri": "https://localhost:8080/",
          "height": 51
        }
      },
      "source": [
        "# Accept the number and check whether the given number is divisible by 3 and 5 or not\n",
        "x = int(input(\"enter the number\"))\n",
        "if (x%3==0) and (x%5==0):\n",
        "   print(\"the number is divisible by 3 and 5\")\n",
        "else:\n",
        "   print(\"the number is not divisible by 3 and 5\")"
      ],
      "execution_count": 0,
      "outputs": [
        {
          "output_type": "stream",
          "text": [
            "enter the number15\n",
            "the number is divisible by 3 and 5\n"
          ],
          "name": "stdout"
        }
      ]
    },
    {
      "cell_type": "code",
      "metadata": {
        "id": "OR3BZioxEHJc",
        "colab_type": "code",
        "outputId": "6104a30d-342b-4bdf-de0f-162f823a22d3",
        "colab": {
          "base_uri": "https://localhost:8080/",
          "height": 51
        }
      },
      "source": [
        "#Accept a number and check the given number id positive, negative or zero\n",
        "n = int(input(\"enter the number\"))\n",
        "if n<0:\n",
        "  print(\"the number is negative\")\n",
        "elif n==0:\n",
        "  print(\"the number is zero\")\n",
        "else:\n",
        "  print(\"the number is positive\")  "
      ],
      "execution_count": 0,
      "outputs": [
        {
          "output_type": "stream",
          "text": [
            "enter the number23\n",
            "the number is positive\n"
          ],
          "name": "stdout"
        }
      ]
    },
    {
      "cell_type": "code",
      "metadata": {
        "id": "51Skr8u2GfuA",
        "colab_type": "code",
        "outputId": "77e2add0-ad03-47e3-d647-eda4f914c5f6",
        "colab": {
          "base_uri": "https://localhost:8080/",
          "height": 51
        }
      },
      "source": [
        "#Accept the age of a person and check whether the person is eligible to vote or not \n",
        "age = int(input(\"enter the age\"))\n",
        "if age>=18:\n",
        "  print(\"the person is eligible\")\n",
        "else:\n",
        "  print(\"the person is not eligible\")\n",
        "  \n"
      ],
      "execution_count": 0,
      "outputs": [
        {
          "output_type": "stream",
          "text": [
            "enter the age20\n",
            "the person is eligible\n"
          ],
          "name": "stdout"
        }
      ]
    },
    {
      "cell_type": "markdown",
      "metadata": {
        "id": "lYi50x7eHDl5",
        "colab_type": "text"
      },
      "source": [
        "Accept the three subjects marks of the student , if the student gets minimum marks (>30) then find avg else print fail. if avg>75-A grade;avg(65-75)-B grade; avg=(45-65)- C grade; avg=(30-45)-D grade; avg<30 print fail"
      ]
    },
    {
      "cell_type": "code",
      "metadata": {
        "id": "j1kOWiBftLiW",
        "colab_type": "code",
        "outputId": "e46b8958-6f7b-4853-e1af-9bc286361a20",
        "colab": {
          "base_uri": "https://localhost:8080/",
          "height": 102
        }
      },
      "source": [
        "x = int(input(\"enter sub-1 marks\"))\n",
        "y = int(input(\"enter sub-2 marks\"))\n",
        "z = int(input(\"enter sub-3 marks\"))\n",
        "avg = 0\n",
        "if x >= 30 and y >= 30 and z >=30:\n",
        "  avg = avg+(x+y+z)/3\n",
        "  print(avg)\n",
        "if avg>75:\n",
        "  print(\"Grade A\")\n",
        "elif 65<avg <= 75:\n",
        "  print(\"Grade B\")\n",
        "elif 45<avg <= 65:\n",
        "  print(\"Grade C\")\n",
        "elif 30<avg <= 45:\n",
        "  print(\"Grade D\")\n",
        "else :\n",
        "  print(\"fail\")    "
      ],
      "execution_count": 0,
      "outputs": [
        {
          "output_type": "stream",
          "text": [
            "enter sub-1 marks60\n",
            "enter sub-2 marks80\n",
            "enter sub-3 marks100\n",
            "80.0\n",
            "Grade A\n"
          ],
          "name": "stdout"
        }
      ]
    },
    {
      "cell_type": "markdown",
      "metadata": {
        "id": "NvLqkCFnIerQ",
        "colab_type": "text"
      },
      "source": [
        "#**LOOPS:**\n",
        "\n",
        "1.  While loop\n",
        "2.  For loop\n",
        "\n"
      ]
    },
    {
      "cell_type": "code",
      "metadata": {
        "id": "pnepbNy2JENP",
        "colab_type": "code",
        "colab": {}
      },
      "source": [
        "# print numbers from 1 to N\n",
        "n = int(input(\"enter the number\"))\n",
        "i=1\n",
        "while i <= n:\n",
        "  print(i, end=\" \")\n",
        "  i = i + 1"
      ],
      "execution_count": 0,
      "outputs": []
    },
    {
      "cell_type": "code",
      "metadata": {
        "id": "d_p8xHRUKB-M",
        "colab_type": "code",
        "outputId": "4c24c866-a4a0-41a7-8585-a16d4b3e0b8a",
        "colab": {
          "base_uri": "https://localhost:8080/",
          "height": 51
        }
      },
      "source": [
        "# print all natural even numbers from 1 to N\n",
        "n = int(input(\"enter e number\"))\n",
        "i = 1\n",
        "while i <= n:\n",
        "  if i % 2 == 0:\n",
        "   print(i, end=\" \")\n",
        "  i = i + 1\n"
      ],
      "execution_count": 0,
      "outputs": [
        {
          "output_type": "stream",
          "text": [
            "enter e number20\n",
            "2 4 6 8 10 12 14 16 18 20 "
          ],
          "name": "stdout"
        }
      ]
    },
    {
      "cell_type": "code",
      "metadata": {
        "id": "wRzYNbPdNYJO",
        "colab_type": "code",
        "outputId": "97facaec-7163-4961-e772-bde23acdbacf",
        "colab": {
          "base_uri": "https://localhost:8080/",
          "height": 51
        }
      },
      "source": [
        "# print the sum of even number from 1 to N\n",
        "n = int( input(\"enter a number\"))\n",
        "sum = 0\n",
        "i = 1\n",
        "while i <= n:\n",
        " if i % 2 == 0:\n",
        "  sum = sum + i\n",
        " i = i + 1\n",
        "print(sum)    "
      ],
      "execution_count": 0,
      "outputs": [
        {
          "output_type": "stream",
          "text": [
            "enter a number10\n",
            "30\n"
          ],
          "name": "stdout"
        }
      ]
    },
    {
      "cell_type": "code",
      "metadata": {
        "id": "40SdbhLmOpZQ",
        "colab_type": "code",
        "outputId": "a8705f62-cdd1-48a5-d9d1-533716e834bb",
        "colab": {
          "base_uri": "https://localhost:8080/",
          "height": 51
        }
      },
      "source": [
        "# extracting the digits from a number\n",
        "# input--546\n",
        "# output-- 6 4 5\n",
        "n = int(input(\"enter a number\"))\n",
        "while n != 0:\n",
        " print(n%10, end=\" \")\n",
        " n = n // 10"
      ],
      "execution_count": 0,
      "outputs": [
        {
          "output_type": "stream",
          "text": [
            "enter a number546\n",
            "6 4 5 "
          ],
          "name": "stdout"
        }
      ]
    },
    {
      "cell_type": "code",
      "metadata": {
        "id": "xm9hZxDJRJP_",
        "colab_type": "code",
        "outputId": "169156c1-9b02-4638-bd8b-20711aae2a72",
        "colab": {
          "base_uri": "https://localhost:8080/",
          "height": 51
        }
      },
      "source": [
        "# palindrome\n",
        "n = int(input(\"enter a number\"))\n",
        "rev = 0\n",
        "temp = n\n",
        "while n!=0:\n",
        "  r = n%10\n",
        "  rev = rev*10+r\n",
        "  n = n // 10\n",
        "if rev == temp:\n",
        "  print(\"palindrome\")\n",
        "else: \n",
        "  print(\"not palindrome\")  "
      ],
      "execution_count": 0,
      "outputs": [
        {
          "output_type": "stream",
          "text": [
            "enter a number525\n",
            "palindrome\n"
          ],
          "name": "stdout"
        }
      ]
    },
    {
      "cell_type": "code",
      "metadata": {
        "id": "CWDgrO4TtlT0",
        "colab_type": "code",
        "outputId": "64c22734-97ec-4f51-ef3f-74898d179b59",
        "colab": {
          "base_uri": "https://localhost:8080/",
          "height": 51
        }
      },
      "source": [
        "# amstrong no.\n",
        "n = int(input(\"enter a value\"))\n",
        "sum = 0\n",
        "temp = n\n",
        "while n!=0:\n",
        "  i=n%10\n",
        "  sum = sum+(i**3)\n",
        "  n=n//10\n",
        "if sum == temp:\n",
        "  print(\"amstrong\")\n",
        "else :\n",
        "  print(\"not amstrong\")   "
      ],
      "execution_count": 0,
      "outputs": [
        {
          "output_type": "stream",
          "text": [
            "enter a value157\n",
            "not amstrong\n"
          ],
          "name": "stdout"
        }
      ]
    },
    {
      "cell_type": "code",
      "metadata": {
        "id": "Q-8rpFQit6b_",
        "colab_type": "code",
        "colab": {}
      },
      "source": [
        " print factors of given no.\n",
        "n = int(input(\"enter a value\"))\n",
        "i = 1\n",
        "while i <= n:\n",
        "  if n%i == 0:\n",
        "    print(i, end=\" \")\n",
        "  i=i+1"
      ],
      "execution_count": 0,
      "outputs": []
    },
    {
      "cell_type": "code",
      "metadata": {
        "id": "NUMi3eIyT2kW",
        "colab_type": "code",
        "outputId": "88631f04-9410-4753-a07e-8c5a8b44c7ab",
        "colab": {
          "base_uri": "https://localhost:8080/",
          "height": 204
        }
      },
      "source": [
        "# print numbers from 1 to N\n",
        "n = int(input(\"enter a number\"))\n",
        "for i in range(1,n+1):\n",
        "  print(i)"
      ],
      "execution_count": 0,
      "outputs": [
        {
          "output_type": "stream",
          "text": [
            "enter a number10\n",
            "1\n",
            "2\n",
            "3\n",
            "4\n",
            "5\n",
            "6\n",
            "7\n",
            "8\n",
            "9\n",
            "10\n"
          ],
          "name": "stdout"
        }
      ]
    },
    {
      "cell_type": "code",
      "metadata": {
        "id": "RzGbA8ltWq7w",
        "colab_type": "code",
        "outputId": "19740f42-fd33-43a3-a564-fe6bf536fff8",
        "colab": {
          "base_uri": "https://localhost:8080/",
          "height": 119
        }
      },
      "source": [
        "# odd numbers\n",
        "n = int(input(\"enter a number\"))\n",
        "for i in range(1,n+1,2):\n",
        " print(i)"
      ],
      "execution_count": 0,
      "outputs": [
        {
          "output_type": "stream",
          "text": [
            "enter a number10\n",
            "1\n",
            "3\n",
            "5\n",
            "7\n",
            "9\n"
          ],
          "name": "stdout"
        }
      ]
    },
    {
      "cell_type": "code",
      "metadata": {
        "id": "o3vXyB_qXiiA",
        "colab_type": "code",
        "outputId": "1eb3480d-f717-4cda-909b-858231ef5d63",
        "colab": {
          "base_uri": "https://localhost:8080/",
          "height": 136
        }
      },
      "source": [
        "n = int(input(\"enter a number\"))\n",
        "for i in range(0,n+1,2):\n",
        " print(i)"
      ],
      "execution_count": 0,
      "outputs": [
        {
          "output_type": "stream",
          "text": [
            "enter a number10\n",
            "0\n",
            "2\n",
            "4\n",
            "6\n",
            "8\n",
            "10\n"
          ],
          "name": "stdout"
        }
      ]
    },
    {
      "cell_type": "code",
      "metadata": {
        "id": "uoFrz5ihYb5Q",
        "colab_type": "code",
        "outputId": "46cbe31c-8784-4eba-b03c-6689f89e588b",
        "colab": {
          "base_uri": "https://localhost:8080/",
          "height": 153
        }
      },
      "source": [
        "n = input(\"enter your name\")\n",
        "for i in n:\n",
        "  print(i)\n",
        "  "
      ],
      "execution_count": 0,
      "outputs": [
        {
          "output_type": "stream",
          "text": [
            "enter your namevanitha\n",
            "v\n",
            "a\n",
            "n\n",
            "i\n",
            "t\n",
            "h\n",
            "a\n"
          ],
          "name": "stdout"
        }
      ]
    },
    {
      "cell_type": "code",
      "metadata": {
        "id": "SXH6qbzGaJ6A",
        "colab_type": "code",
        "outputId": "b48fd911-a8fa-4d56-ab43-2873fec47ce8",
        "colab": {
          "base_uri": "https://localhost:8080/",
          "height": 119
        }
      },
      "source": [
        "n = input(\"enter your name\")\n",
        "length = len(n)\n",
        "i = 0\n",
        "while i < length:\n",
        "  print(n[i])\n",
        "  i = i+1"
      ],
      "execution_count": 0,
      "outputs": [
        {
          "output_type": "stream",
          "text": [
            "enter your nameGitam\n",
            "G\n",
            "i\n",
            "t\n",
            "a\n",
            "m\n"
          ],
          "name": "stdout"
        }
      ]
    },
    {
      "cell_type": "markdown",
      "metadata": {
        "id": "JWQxyKXXcECr",
        "colab_type": "text"
      },
      "source": [
        "#**FUNCTIONS:**"
      ]
    },
    {
      "cell_type": "code",
      "metadata": {
        "id": "qcfRZy_pbImg",
        "colab_type": "code",
        "colab": {}
      },
      "source": [
        "#SYNTAX:\n",
        "def func_name(arguments):\n",
        "  return "
      ],
      "execution_count": 0,
      "outputs": []
    },
    {
      "cell_type": "code",
      "metadata": {
        "id": "qF63h05XdV6A",
        "colab_type": "code",
        "outputId": "f85249d7-c455-46db-f9b3-4d8a5e1b5fb3",
        "colab": {
          "base_uri": "https://localhost:8080/",
          "height": 34
        }
      },
      "source": [
        "#Function:\n",
        "def add(x,y):\n",
        "  return x+y\n",
        "add(10,20)  "
      ],
      "execution_count": 0,
      "outputs": [
        {
          "output_type": "execute_result",
          "data": {
            "text/plain": [
              "30"
            ]
          },
          "metadata": {
            "tags": []
          },
          "execution_count": 33
        }
      ]
    },
    {
      "cell_type": "code",
      "metadata": {
        "id": "n2iefJo9eRV9",
        "colab_type": "code",
        "outputId": "f214f99d-1fdd-408a-8c06-e30ed811b7cd",
        "colab": {
          "base_uri": "https://localhost:8080/",
          "height": 34
        }
      },
      "source": [
        "# print sum of even numbers by using function\n",
        "def Even_sum(n):\n",
        "  sum = 0\n",
        "  for i in range(1,n+1):\n",
        "    if i%2 == 0:\n",
        "      sum+=i\n",
        "  return sum\n",
        "Even_sum(10)"
      ],
      "execution_count": 0,
      "outputs": [
        {
          "output_type": "execute_result",
          "data": {
            "text/plain": [
              "30"
            ]
          },
          "metadata": {
            "tags": []
          },
          "execution_count": 1
        }
      ]
    },
    {
      "cell_type": "code",
      "metadata": {
        "id": "vDdGlrFhLx1j",
        "colab_type": "code",
        "colab": {}
      },
      "source": [
        ""
      ],
      "execution_count": 0,
      "outputs": []
    }
  ]
}