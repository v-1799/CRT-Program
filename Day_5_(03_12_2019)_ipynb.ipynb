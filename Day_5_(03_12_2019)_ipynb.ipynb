{
  "nbformat": 4,
  "nbformat_minor": 0,
  "metadata": {
    "colab": {
      "name": "Day-5 (03/12/2019)_ipynb",
      "provenance": [],
      "include_colab_link": true
    },
    "kernelspec": {
      "name": "python3",
      "display_name": "Python 3"
    }
  },
  "cells": [
    {
      "cell_type": "markdown",
      "metadata": {
        "id": "view-in-github",
        "colab_type": "text"
      },
      "source": [
        "<a href=\"https://colab.research.google.com/github/v-1799/CRT-Program/blob/master/Day_5_(03_12_2019)_ipynb.ipynb\" target=\"_parent\"><img src=\"https://colab.research.google.com/assets/colab-badge.svg\" alt=\"Open In Colab\"/></a>"
      ]
    },
    {
      "cell_type": "code",
      "metadata": {
        "id": "FQ7TaBMt3EyM",
        "colab_type": "code",
        "colab": {}
      },
      "source": [
        ""
      ],
      "execution_count": 0,
      "outputs": []
    },
    {
      "cell_type": "markdown",
      "metadata": {
        "id": "R7BgBDLG58v1",
        "colab_type": "text"
      },
      "source": [
        ""
      ]
    },
    {
      "cell_type": "code",
      "metadata": {
        "id": "AY-HwbF7892D",
        "colab_type": "code",
        "colab": {}
      },
      "source": [
        ""
      ],
      "execution_count": 0,
      "outputs": []
    },
    {
      "cell_type": "markdown",
      "metadata": {
        "id": "13I1vJnd9Gle",
        "colab_type": "text"
      },
      "source": [
        "# python programming\n",
        "## python programming\n",
        "### python programming\n",
        "#### python programming\n"
      ]
    },
    {
      "cell_type": "code",
      "metadata": {
        "id": "yyW0ZX6R-Mka",
        "colab_type": "code",
        "colab": {}
      },
      "source": [
        ""
      ],
      "execution_count": 0,
      "outputs": []
    },
    {
      "cell_type": "markdown",
      "metadata": {
        "id": "WD068EMv-TZN",
        "colab_type": "text"
      },
      "source": [
        "\n",
        "\n",
        "1.  python basic\n",
        "2.  python advance\n",
        "3.  python program\n",
        "\n",
        "\n",
        "\n"
      ]
    },
    {
      "cell_type": "code",
      "metadata": {
        "id": "hJX3cFOm-yB_",
        "colab_type": "code",
        "colab": {}
      },
      "source": [
        ""
      ],
      "execution_count": 0,
      "outputs": []
    },
    {
      "cell_type": "markdown",
      "metadata": {
        "id": "326OdKt-_nbW",
        "colab_type": "text"
      },
      "source": [
        "![image](https://images.pexels.com/photos/60597/dahlia-red-blossom-bloom-60597.jpeg?auto=compress&cs=tinysrgb&dpr=1&w=500)"
      ]
    },
    {
      "cell_type": "code",
      "metadata": {
        "id": "x-ce7QOmAdIx",
        "colab_type": "code",
        "colab": {}
      },
      "source": [
        ""
      ],
      "execution_count": 0,
      "outputs": []
    },
    {
      "cell_type": "markdown",
      "metadata": {
        "id": "m4Ol8gynArXF",
        "colab_type": "text"
      },
      "source": [
        "[click here](https://www.google.com/)"
      ]
    },
    {
      "cell_type": "code",
      "metadata": {
        "id": "kQtb19AABNSS",
        "colab_type": "code",
        "colab": {}
      },
      "source": [
        ""
      ],
      "execution_count": 0,
      "outputs": []
    },
    {
      "cell_type": "code",
      "metadata": {
        "id": "fGCOKu2fEHFm",
        "colab_type": "code",
        "outputId": "709f7e15-5304-4747-ba0b-164aaaf0d3f8",
        "colab": {
          "base_uri": "https://localhost:8080/",
          "height": 34
        }
      },
      "source": [
        "print(\"Hello World\")"
      ],
      "execution_count": 0,
      "outputs": [
        {
          "output_type": "stream",
          "text": [
            "Hello World\n"
          ],
          "name": "stdout"
        }
      ]
    },
    {
      "cell_type": "code",
      "metadata": {
        "id": "lLVZ5eXDETpg",
        "colab_type": "code",
        "outputId": "886f5ad1-cb9b-4c93-8c77-44c010a2f4a2",
        "colab": {
          "base_uri": "https://localhost:8080/",
          "height": 51
        }
      },
      "source": [
        "x = 10\n",
        "y = 20\n",
        "print(x + y)\n",
        "print(x - y)"
      ],
      "execution_count": 0,
      "outputs": [
        {
          "output_type": "stream",
          "text": [
            "30\n",
            "-10\n"
          ],
          "name": "stdout"
        }
      ]
    },
    {
      "cell_type": "code",
      "metadata": {
        "id": "U5Ba-2PRGxYG",
        "colab_type": "code",
        "outputId": "f32e9ec1-ed81-43d3-f604-dfde1bb7db6a",
        "colab": {
          "base_uri": "https://localhost:8080/",
          "height": 68
        }
      },
      "source": [
        "x = int(input(\"enter x value\"))\n",
        "y = int(input(\"enter y value\"))\n",
        "x + y"
      ],
      "execution_count": 0,
      "outputs": [
        {
          "output_type": "stream",
          "text": [
            "enter x value10\n",
            "enter y value20\n"
          ],
          "name": "stdout"
        },
        {
          "output_type": "execute_result",
          "data": {
            "text/plain": [
              "30"
            ]
          },
          "metadata": {
            "tags": []
          },
          "execution_count": 7
        }
      ]
    },
    {
      "cell_type": "code",
      "metadata": {
        "id": "aU72RIBkKENm",
        "colab_type": "code",
        "outputId": "216b9187-72e2-4d8b-fbc4-31d35ee0a040",
        "colab": {
          "base_uri": "https://localhost:8080/",
          "height": 68
        }
      },
      "source": [
        "name = input(\"enter name\")\n",
        "age = int(input(\"enter age\"))\n",
        "print(\"my name is\",name,end=\"  \")\n",
        "print(\"my age is\",age)"
      ],
      "execution_count": 0,
      "outputs": [
        {
          "output_type": "stream",
          "text": [
            "enter namevanitha\n",
            "enter age20\n",
            "my name is vanitha  my age is 20\n"
          ],
          "name": "stdout"
        }
      ]
    },
    {
      "cell_type": "markdown",
      "metadata": {
        "id": "K28cP-RmPMlR",
        "colab_type": "text"
      },
      "source": [
        "#data types\n",
        "\n",
        "\n",
        "1.  int\n",
        "2.  float\n",
        "3.  complex\n",
        "4.  boolean(true or false)- first letter should be uppercase -True ,False\n",
        "5.  string\n",
        "\n",
        "*   python is completely interpreted language , object oriented programming.\n",
        "*   the codes are compiled by interpreter ;python is case sensitive\n",
        "*   divided into 2 memories\n",
        "       1.   stat memory- references(addresses)\n",
        "       2.   heat memory- values\n",
        "\n",
        "\n",
        "\n",
        "\n",
        "\n",
        "\n"
      ]
    },
    {
      "cell_type": "code",
      "metadata": {
        "id": "T0KN5SreI0t2",
        "colab_type": "code",
        "outputId": "69177739-99c5-4670-e6ae-62237185ea7f",
        "colab": {
          "base_uri": "https://localhost:8080/",
          "height": 34
        }
      },
      "source": [
        "a = 3\n",
        "b = 2.67\n",
        "c = 5+6j\n",
        "d = 3+5j\n",
        "print(type(a),type(b),type(c))"
      ],
      "execution_count": 0,
      "outputs": [
        {
          "output_type": "stream",
          "text": [
            "<class 'int'> <class 'float'> <class 'complex'>\n"
          ],
          "name": "stdout"
        }
      ]
    },
    {
      "cell_type": "code",
      "metadata": {
        "id": "3h7LjI3wUhWb",
        "colab_type": "code",
        "outputId": "81e0b34d-23e8-42b2-a4cb-8beb5245a582",
        "colab": {
          "base_uri": "https://localhost:8080/",
          "height": 34
        }
      },
      "source": [
        "print(c+d)"
      ],
      "execution_count": 0,
      "outputs": [
        {
          "output_type": "stream",
          "text": [
            "(8+11j)\n"
          ],
          "name": "stdout"
        }
      ]
    },
    {
      "cell_type": "code",
      "metadata": {
        "id": "YMcDYI-2QDp_",
        "colab_type": "code",
        "outputId": "b9e2bfe8-cf73-4136-ba20-ff8c9a8f2899",
        "colab": {
          "base_uri": "https://localhost:8080/",
          "height": 34
        }
      },
      "source": [
        "str1 = \"Gitam\"\n",
        "str2 = 'University'\n",
        "str1 + str2"
      ],
      "execution_count": 0,
      "outputs": [
        {
          "output_type": "execute_result",
          "data": {
            "text/plain": [
              "'GitamUniversity'"
            ]
          },
          "metadata": {
            "tags": []
          },
          "execution_count": 14
        }
      ]
    },
    {
      "cell_type": "code",
      "metadata": {
        "id": "rzRDI-tuWCBv",
        "colab_type": "code",
        "outputId": "c6d55984-0df4-475d-d409-e848841f17f7",
        "colab": {
          "base_uri": "https://localhost:8080/",
          "height": 34
        }
      },
      "source": [
        "len(str1)"
      ],
      "execution_count": 0,
      "outputs": [
        {
          "output_type": "execute_result",
          "data": {
            "text/plain": [
              "5"
            ]
          },
          "metadata": {
            "tags": []
          },
          "execution_count": 15
        }
      ]
    },
    {
      "cell_type": "code",
      "metadata": {
        "id": "l1nv3ThiWjyR",
        "colab_type": "code",
        "outputId": "45d76728-d9fe-445e-e91b-0668ed4f9c9a",
        "colab": {
          "base_uri": "https://localhost:8080/",
          "height": 34
        }
      },
      "source": [
        "a = 147852369\n",
        "print(len(str(a)))"
      ],
      "execution_count": 0,
      "outputs": [
        {
          "output_type": "stream",
          "text": [
            "9\n"
          ],
          "name": "stdout"
        }
      ]
    },
    {
      "cell_type": "code",
      "metadata": {
        "id": "jlfWWBrRXiak",
        "colab_type": "code",
        "colab": {}
      },
      "source": [
        ""
      ],
      "execution_count": 0,
      "outputs": []
    },
    {
      "cell_type": "code",
      "metadata": {
        "id": "F23ogQ1kYx54",
        "colab_type": "code",
        "outputId": "9fc123f4-bd39-4197-99fb-849d992414da",
        "colab": {
          "base_uri": "https://localhost:8080/",
          "height": 34
        }
      },
      "source": [
        "RESULT = 10<20\n",
        "print(RESULT,type(RESULT))"
      ],
      "execution_count": 0,
      "outputs": [
        {
          "output_type": "stream",
          "text": [
            "True <class 'bool'>\n"
          ],
          "name": "stdout"
        }
      ]
    },
    {
      "cell_type": "markdown",
      "metadata": {
        "id": "Ep8JRp0zYnYf",
        "colab_type": "text"
      },
      "source": [
        "#**OPERATORS**\n",
        "\n",
        "\n",
        "1. *Arthimatic Operators*\n",
        "    \n",
        "*   addition(+)\n",
        "*   subtraction(-)\n",
        "*   modular division(%)\n",
        "*   division(/)\n",
        "*   exponent/ power(**)\n",
        "*   floor division operator(//)\n",
        "\n",
        "2. *Logical Operator*s- checking multiple conditions\n",
        "*   logical AND(and)\n",
        "*   logical OR(or)\n",
        "*   logical NOT(not) \n",
        "\n",
        "\n",
        "3. *Relational Operators*- o/p is true or false\n",
        "  (==,!=,<,>,>=,<=)\n",
        "\n",
        "4. *Conditional Statements*\n",
        "*   if\n",
        "*   else\n",
        "*   elif\n",
        "   \n",
        "\n",
        "\n",
        "\n",
        "\n",
        "\n",
        "\n",
        "\n",
        "\n",
        "\n",
        "\n",
        "\n",
        "\n",
        "\n",
        "\n",
        "\n",
        "\n",
        "\n",
        "\n",
        "\n",
        "\n",
        "\n",
        "\n",
        "\n",
        "\n",
        "\n",
        "\n",
        "\n",
        "\n",
        "\n",
        "\n",
        "\n",
        "\n",
        "\n",
        "\n",
        "\n",
        "\n",
        "\n",
        "\n"
      ]
    },
    {
      "cell_type": "code",
      "metadata": {
        "id": "3MyyZcAxbK2z",
        "colab_type": "code",
        "outputId": "f61815d1-d516-467f-a5e8-3f268ed79fc0",
        "colab": {
          "base_uri": "https://localhost:8080/",
          "height": 136
        }
      },
      "source": [
        "#arithmatic operator\n",
        "a = 12\n",
        "b = 23\n",
        "print(a+b)\n",
        "print(a-b)\n",
        "print(a*b)\n",
        "print(a/b)\n",
        "print(a%b)\n",
        "print(a**b)\n",
        "print(a//b)"
      ],
      "execution_count": 0,
      "outputs": [
        {
          "output_type": "stream",
          "text": [
            "35\n",
            "-11\n",
            "276\n",
            "0.5217391304347826\n",
            "12\n",
            "6624737266949237011120128\n",
            "0\n"
          ],
          "name": "stdout"
        }
      ]
    },
    {
      "cell_type": "code",
      "metadata": {
        "id": "SKyXCfAQbkfl",
        "colab_type": "code",
        "outputId": "ee690ea3-7cbc-44b0-fd28-76b44ebcbf21",
        "colab": {
          "base_uri": "https://localhost:8080/",
          "height": 68
        }
      },
      "source": [
        "# Logical operator\n",
        "i = 10\n",
        "j = 20\n",
        "print(i>1 and i<20)\n",
        "print(i>12 or i<33)\n",
        "print(not i)"
      ],
      "execution_count": 0,
      "outputs": [
        {
          "output_type": "stream",
          "text": [
            "True\n",
            "True\n",
            "False\n"
          ],
          "name": "stdout"
        }
      ]
    },
    {
      "cell_type": "code",
      "metadata": {
        "id": "913vKo8dfPEX",
        "colab_type": "code",
        "outputId": "bd37535a-3413-4890-bbda-0ee991c9d999",
        "colab": {
          "base_uri": "https://localhost:8080/",
          "height": 119
        }
      },
      "source": [
        "#Relational Operators\n",
        "print(i==j)\n",
        "print(i !=j)\n",
        "print(i<j)\n",
        "print(i>j)\n",
        "print(i>=j)\n",
        "print(i<=j)\n"
      ],
      "execution_count": 0,
      "outputs": [
        {
          "output_type": "stream",
          "text": [
            "False\n",
            "True\n",
            "True\n",
            "False\n",
            "False\n",
            "True\n"
          ],
          "name": "stdout"
        }
      ]
    },
    {
      "cell_type": "code",
      "metadata": {
        "id": "CEDYz53Qhe63",
        "colab_type": "code",
        "outputId": "67d82210-361c-4ab7-de9f-fad5028e4f0f",
        "colab": {
          "base_uri": "https://localhost:8080/",
          "height": 51
        }
      },
      "source": [
        "#Membership Operator\n",
        "str1 = 'Gitam'\n",
        "print('z' in str1)\n",
        "print('z' not in str1)"
      ],
      "execution_count": 0,
      "outputs": [
        {
          "output_type": "stream",
          "text": [
            "False\n",
            "True\n"
          ],
          "name": "stdout"
        }
      ]
    },
    {
      "cell_type": "code",
      "metadata": {
        "id": "d8hYsGHdiOZ1",
        "colab_type": "code",
        "colab": {}
      },
      "source": [
        "# syntax:\n",
        "if condition:\n",
        "  statements\n",
        " else:\n",
        "  statements\n"
      ],
      "execution_count": 0,
      "outputs": []
    },
    {
      "cell_type": "code",
      "metadata": {
        "id": "Za4MepIalXWv",
        "colab_type": "code",
        "outputId": "adf27667-80a7-46fc-9f53-0735dc9fe37e",
        "colab": {
          "base_uri": "https://localhost:8080/",
          "height": 51
        }
      },
      "source": [
        "# to check given number is even or odd\n",
        "n = int(input(\"enter any number\"))\n",
        "if n%2==0:\n",
        "  print('even')\n",
        "else:\n",
        "  print(\"odd\")  "
      ],
      "execution_count": 0,
      "outputs": [
        {
          "output_type": "stream",
          "text": [
            "enter any number25\n",
            "odd\n"
          ],
          "name": "stdout"
        }
      ]
    },
    {
      "cell_type": "code",
      "metadata": {
        "id": "6Gd253ItmAOl",
        "colab_type": "code",
        "colab": {}
      },
      "source": [
        ""
      ],
      "execution_count": 0,
      "outputs": []
    }
  ]
}