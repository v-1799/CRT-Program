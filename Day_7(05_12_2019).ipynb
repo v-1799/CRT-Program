{
  "nbformat": 4,
  "nbformat_minor": 0,
  "metadata": {
    "colab": {
      "name": "Day-7(05/12/2019).ipynb",
      "provenance": [],
      "include_colab_link": true
    },
    "kernelspec": {
      "name": "python3",
      "display_name": "Python 3"
    }
  },
  "cells": [
    {
      "cell_type": "markdown",
      "metadata": {
        "id": "view-in-github",
        "colab_type": "text"
      },
      "source": [
        "<a href=\"https://colab.research.google.com/github/v-1799/CRT-Program/blob/master/Day_7(05_12_2019).ipynb\" target=\"_parent\"><img src=\"https://colab.research.google.com/assets/colab-badge.svg\" alt=\"Open In Colab\"/></a>"
      ]
    },
    {
      "cell_type": "code",
      "metadata": {
        "id": "AJiLBKtOJej1",
        "colab_type": "code",
        "outputId": "409896fa-6ad9-4a81-8c80-3fc61cf093f9",
        "colab": {
          "base_uri": "https://localhost:8080/",
          "height": 51
        }
      },
      "source": [
        "#factorial of a numberusing functions:\n",
        "def factorial(n):\n",
        "  f = 1\n",
        "  for i in range(1,n+1):\n",
        "    f = f*i\n",
        "  return f\n",
        "print(factorial(5))  \n",
        "print(factorial(10))              "
      ],
      "execution_count": 0,
      "outputs": [
        {
          "output_type": "stream",
          "text": [
            "120\n",
            "3628800\n"
          ],
          "name": "stdout"
        }
      ]
    },
    {
      "cell_type": "code",
      "metadata": {
        "id": "Atmb0SWKPUZT",
        "colab_type": "code",
        "colab": {}
      },
      "source": [
        ""
      ],
      "execution_count": 0,
      "outputs": []
    },
    {
      "cell_type": "markdown",
      "metadata": {
        "id": "X6WdWC6zTPn5",
        "colab_type": "text"
      },
      "source": [
        "#**COLLECTION DATATYPES:**\n",
        "\n",
        "1.   list--> x = [10,20,30]\n",
        "2.   tuple\n",
        "3.   dictionary\n",
        "\n",
        "*   lists are mutable,indexed,ordered\n",
        "*   list holds heterogenous values\n",
        "\n",
        "\n",
        "\n"
      ]
    },
    {
      "cell_type": "code",
      "metadata": {
        "id": "gQQdo3xYTq4r",
        "colab_type": "code",
        "colab": {}
      },
      "source": [
        "#Collectio datatypes:\n",
        "#list\n",
        "#tuple\n",
        "#dictionary\n"
      ],
      "execution_count": 0,
      "outputs": []
    },
    {
      "cell_type": "code",
      "metadata": {
        "id": "n3UjlUetT2xk",
        "colab_type": "code",
        "outputId": "3c7468d4-a4b0-4d84-e750-46ae495a921d",
        "colab": {
          "base_uri": "https://localhost:8080/",
          "height": 34
        }
      },
      "source": [
        "#list:\n",
        "x = [10,20,30]\n",
        "type(x)"
      ],
      "execution_count": 0,
      "outputs": [
        {
          "output_type": "execute_result",
          "data": {
            "text/plain": [
              "list"
            ]
          },
          "metadata": {
            "tags": []
          },
          "execution_count": 8
        }
      ]
    },
    {
      "cell_type": "code",
      "metadata": {
        "id": "Ed-v7vYsVIHV",
        "colab_type": "code",
        "outputId": "a8ab15f9-9f00-4ec2-ed68-889e87dad5c1",
        "colab": {
          "base_uri": "https://localhost:8080/",
          "height": 34
        }
      },
      "source": [
        "x = [10,20,30]\n",
        "x.append(40)\n",
        "x.append(50)\n",
        "print(x[3:5])"
      ],
      "execution_count": 0,
      "outputs": [
        {
          "output_type": "stream",
          "text": [
            "[40, 50]\n"
          ],
          "name": "stdout"
        }
      ]
    },
    {
      "cell_type": "code",
      "metadata": {
        "id": "zPdru7QzVjbT",
        "colab_type": "code",
        "colab": {}
      },
      "source": [
        "x = [10,20,]"
      ],
      "execution_count": 0,
      "outputs": []
    }
  ]
}